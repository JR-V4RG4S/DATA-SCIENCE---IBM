{
 "cells": [
  {
   "cell_type": "markdown",
   "metadata": {},
   "source": [
    "<center>\n",
    "    <img src=\"https://cf-courses-data.s3.us.cloud-object-storage.appdomain.cloud/IBMDeveloperSkillsNetwork-DS0105EN-SkillsNetwork/labs/Module2/images/SN_web_lightmode.png\" width=\"300\" alt=\"cognitiveclass.ai logo\">\n",
    "</center>\n"
   ]
  },
  {
   "cell_type": "markdown",
   "metadata": {},
   "source": [
    "#### Add your code below following the instructions given in the course\n",
    "\n",
    "\n",
    "**AUTOR: JORGE VARGAS**\n"
   ]
  },
  {
   "cell_type": "code",
   "execution_count": 2,
   "metadata": {},
   "outputs": [
    {
     "name": "stdout",
     "output_type": "stream",
     "text": [
      "Hello!\n"
     ]
    }
   ],
   "source": [
    "print(\"Hello!\")"
   ]
  },
  {
   "cell_type": "markdown",
   "metadata": {},
   "source": [
    "## **Title: DataScienceEcosystem**\n"
   ]
  },
  {
   "cell_type": "markdown",
   "metadata": {},
   "source": [
    "**Descripción**: El presente proyecto está orientado para el cumplimiento de cada ejercicio propuesto para poder demostrar la habilidad que se está desarrollando con estas actividades.\n",
    "Lo cual es muy beneficioso para el proximo camino de data science"
   ]
  },
  {
   "cell_type": "markdown",
   "metadata": {},
   "source": [
    "**Listado de lenguaje para ciencia de datos** <br> \n",
    "\n",
    "Para poder trabajar como cientifico de datos, tenemos diferentes opciones como ser R con RStudio y además el favorito de la mayoría por ser un lenguaje a muy alto nivel, Python"
   ]
  },
  {
   "cell_type": "markdown",
   "metadata": {},
   "source": [
    "**Biblioteca de Ciencia de datos:**\n",
    "\n",
    "Algunas de las bibliotecas que podemos encontrarnos cuando realizamos actividades de ciencia de datos son:\n",
    "\n",
    "**1) Pandas** que nos sirve para el trabajo que iniciaremos con el tratamiendo de los datos y su origen <br>\n",
    "\n",
    "**2) Matplotlib** Otra librería que nos servirá pero en esta ocasión para la visualización de datos \n",
    "\n",
    "**3) Scikit-Learn** Ideal para aquellos trabajos que necesitemos utilizar algunos modelos \n"
   ]
  },
  {
   "cell_type": "markdown",
   "metadata": {},
   "source": [
    "**Herramientas de Ciencia de datos:**\n",
    "\n",
    "Algunas de las herramientas que podemos encontrar que nos ayudarán para la ciencia de datos son: \n",
    "\n",
    "**1) Microsoft Excel**<br>\n",
    "**2) Python**<br>\n",
    "**3) R**<br>\n",
    "**4) Power BI**<br>\n"
   ]
  },
  {
   "cell_type": "markdown",
   "metadata": {},
   "source": [
    "## Ejemplos de Expresiones Aritméticas  \n",
    "Aquí algunos ejemplos de operaciones aritméticas en Python:  \n",
    "\n",
    "- **Suma:** `5 + 3 = 8`  \n",
    "- **Resta:** `10 - 4 = 6`  \n",
    "- **Multiplicación:** `7 * 2 = 14`  \n",
    "- **División:** `20 / 4 = 5.0`  "
   ]
  },
  {
   "cell_type": "markdown",
   "metadata": {},
   "source": [
    "**Ejercicio de: Multiplicación**"
   ]
  },
  {
   "cell_type": "code",
   "execution_count": 10,
   "metadata": {},
   "outputs": [
    {
     "name": "stdout",
     "output_type": "stream",
     "text": [
      "Esta es una expresión aritmética simple para multiplicar y luego sumar enteros.\n",
      "Multiplicación: (3 * 4) + 5 = 17\n"
     ]
    }
   ],
   "source": [
    "num1 = 3\n",
    "num2 = 4\n",
    "num3 = 5\n",
    "\n",
    "\n",
    "\n",
    "resultado_multiplicacion = (num1 * num2) + num3\n",
    "\n",
    "print(\"Esta es una expresión aritmética simple para multiplicar y luego sumar enteros.\")\n",
    "print(f\"Multiplicación: ({num1} * {num2}) + {num3} = {resultado_multiplicacion}\")"
   ]
  },
  {
   "cell_type": "markdown",
   "metadata": {},
   "source": [
    "### **convertir minutos a horas**"
   ]
  },
  {
   "cell_type": "code",
   "execution_count": 11,
   "metadata": {},
   "outputs": [
    {
     "name": "stdout",
     "output_type": "stream",
     "text": [
      "2000 minutos equivalen a 33.33 horas\n"
     ]
    }
   ],
   "source": [
    "# Convertir minutos a horas\n",
    "def minutos_a_horas(minutos):\n",
    "    horas = minutos / 60\n",
    "    return horas\n",
    "\n",
    "minutos = 2000  # Ejemplo\n",
    "horas_convertidas = minutos_a_horas(minutos)\n",
    "\n",
    "print(f\"{minutos} minutos equivalen a {horas_convertidas:.2f} horas\")\n"
   ]
  },
  {
   "cell_type": "markdown",
   "metadata": {},
   "source": [
    "### **Listando objetivos**\n",
    "\n",
    "- Aprender a usar Jupyter Notebook  \n",
    "- Practicar operaciones matemáticas en Python  \n",
    "- Aplicar conceptos de conversión de unidades  \n",
    "- Mejorar la organización del código con Markdown"
   ]
  },
  {
   "cell_type": "markdown",
   "metadata": {},
   "source": [
    "\n",
    "\n",
    "## **Autor:** \n",
    "Jorge Vargas"
   ]
  },
  {
   "cell_type": "code",
   "execution_count": null,
   "metadata": {},
   "outputs": [],
   "source": []
  }
 ],
 "metadata": {
  "kernelspec": {
   "display_name": "Python 3 (ipykernel)",
   "language": "python",
   "name": "python3"
  },
  "language_info": {
   "codemirror_mode": {
    "name": "ipython",
    "version": 3
   },
   "file_extension": ".py",
   "mimetype": "text/x-python",
   "name": "python",
   "nbconvert_exporter": "python",
   "pygments_lexer": "ipython3",
   "version": "3.12.8"
  }
 },
 "nbformat": 4,
 "nbformat_minor": 4
}
